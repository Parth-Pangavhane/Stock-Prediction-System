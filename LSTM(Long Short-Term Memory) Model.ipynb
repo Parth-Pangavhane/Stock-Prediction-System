{
 "cells": [
  {
   "cell_type": "code",
   "execution_count": 11,
   "id": "853efe6b",
   "metadata": {
    "scrolled": true
   },
   "outputs": [],
   "source": [
    "import pandas as pd\n",
    "import pandas_datareader as pdr"
   ]
  },
  {
   "cell_type": "code",
   "execution_count": 13,
   "id": "3594711c",
   "metadata": {},
   "outputs": [],
   "source": [
    "key = \"eec928552b5cec2e8f43d50d9e02851189c9e284\""
   ]
  },
  {
   "cell_type": "code",
   "execution_count": 15,
   "id": "72d700ac",
   "metadata": {},
   "outputs": [
    {
     "name": "stderr",
     "output_type": "stream",
     "text": [
      "C:\\Users\\REALME\\AppData\\Local\\Temp\\ipykernel_14600\\1246326874.py:1: FutureWarning: In a future version of pandas all arguments of concat except for the argument 'objs' will be keyword-only.\n",
      "  df=pdr.get_data_tiingo('TSLA',api_key=key)\n"
     ]
    }
   ],
   "source": [
    "df=pdr.get_data_tiingo('TSLA',api_key=key)"
   ]
  },
  {
   "cell_type": "code",
   "execution_count": 16,
   "id": "07513b95",
   "metadata": {},
   "outputs": [],
   "source": [
    "df.to_csv('TSLA.csv')"
   ]
  },
  {
   "cell_type": "code",
   "execution_count": 17,
   "id": "19ec7e3d",
   "metadata": {},
   "outputs": [],
   "source": [
    "df=pd.read_csv('TSLA.csv')"
   ]
  },
  {
   "cell_type": "code",
   "execution_count": 18,
   "id": "3346b166",
   "metadata": {},
   "outputs": [
    {
     "data": {
      "text/html": [
       "<div>\n",
       "<style scoped>\n",
       "    .dataframe tbody tr th:only-of-type {\n",
       "        vertical-align: middle;\n",
       "    }\n",
       "\n",
       "    .dataframe tbody tr th {\n",
       "        vertical-align: top;\n",
       "    }\n",
       "\n",
       "    .dataframe thead th {\n",
       "        text-align: right;\n",
       "    }\n",
       "</style>\n",
       "<table border=\"1\" class=\"dataframe\">\n",
       "  <thead>\n",
       "    <tr style=\"text-align: right;\">\n",
       "      <th></th>\n",
       "      <th>symbol</th>\n",
       "      <th>date</th>\n",
       "      <th>close</th>\n",
       "      <th>high</th>\n",
       "      <th>low</th>\n",
       "      <th>open</th>\n",
       "      <th>volume</th>\n",
       "      <th>adjClose</th>\n",
       "      <th>adjHigh</th>\n",
       "      <th>adjLow</th>\n",
       "      <th>adjOpen</th>\n",
       "      <th>adjVolume</th>\n",
       "      <th>divCash</th>\n",
       "      <th>splitFactor</th>\n",
       "    </tr>\n",
       "  </thead>\n",
       "  <tbody>\n",
       "    <tr>\n",
       "      <th>0</th>\n",
       "      <td>TSLA</td>\n",
       "      <td>2018-10-01 00:00:00+00:00</td>\n",
       "      <td>310.70</td>\n",
       "      <td>311.4400</td>\n",
       "      <td>301.0500</td>\n",
       "      <td>305.77</td>\n",
       "      <td>21777597</td>\n",
       "      <td>20.713333</td>\n",
       "      <td>20.762667</td>\n",
       "      <td>20.070000</td>\n",
       "      <td>20.384667</td>\n",
       "      <td>326663955</td>\n",
       "      <td>0.0</td>\n",
       "      <td>1.0</td>\n",
       "    </tr>\n",
       "    <tr>\n",
       "      <th>1</th>\n",
       "      <td>TSLA</td>\n",
       "      <td>2018-10-02 00:00:00+00:00</td>\n",
       "      <td>301.02</td>\n",
       "      <td>316.8400</td>\n",
       "      <td>299.1500</td>\n",
       "      <td>313.95</td>\n",
       "      <td>11743511</td>\n",
       "      <td>20.068000</td>\n",
       "      <td>21.122667</td>\n",
       "      <td>19.943333</td>\n",
       "      <td>20.930000</td>\n",
       "      <td>176152665</td>\n",
       "      <td>0.0</td>\n",
       "      <td>1.0</td>\n",
       "    </tr>\n",
       "    <tr>\n",
       "      <th>2</th>\n",
       "      <td>TSLA</td>\n",
       "      <td>2018-10-03 00:00:00+00:00</td>\n",
       "      <td>294.80</td>\n",
       "      <td>304.6000</td>\n",
       "      <td>291.5700</td>\n",
       "      <td>303.33</td>\n",
       "      <td>7994988</td>\n",
       "      <td>19.653333</td>\n",
       "      <td>20.306667</td>\n",
       "      <td>19.438000</td>\n",
       "      <td>20.222000</td>\n",
       "      <td>119924820</td>\n",
       "      <td>0.0</td>\n",
       "      <td>1.0</td>\n",
       "    </tr>\n",
       "    <tr>\n",
       "      <th>3</th>\n",
       "      <td>TSLA</td>\n",
       "      <td>2018-10-04 00:00:00+00:00</td>\n",
       "      <td>281.83</td>\n",
       "      <td>294.0000</td>\n",
       "      <td>277.6700</td>\n",
       "      <td>293.95</td>\n",
       "      <td>9814212</td>\n",
       "      <td>18.788667</td>\n",
       "      <td>19.600000</td>\n",
       "      <td>18.511333</td>\n",
       "      <td>19.596667</td>\n",
       "      <td>147213180</td>\n",
       "      <td>0.0</td>\n",
       "      <td>1.0</td>\n",
       "    </tr>\n",
       "    <tr>\n",
       "      <th>4</th>\n",
       "      <td>TSLA</td>\n",
       "      <td>2018-10-05 00:00:00+00:00</td>\n",
       "      <td>261.95</td>\n",
       "      <td>274.8800</td>\n",
       "      <td>260.0000</td>\n",
       "      <td>274.65</td>\n",
       "      <td>17944537</td>\n",
       "      <td>17.463333</td>\n",
       "      <td>18.325333</td>\n",
       "      <td>17.333333</td>\n",
       "      <td>18.310000</td>\n",
       "      <td>269168055</td>\n",
       "      <td>0.0</td>\n",
       "      <td>1.0</td>\n",
       "    </tr>\n",
       "    <tr>\n",
       "      <th>...</th>\n",
       "      <td>...</td>\n",
       "      <td>...</td>\n",
       "      <td>...</td>\n",
       "      <td>...</td>\n",
       "      <td>...</td>\n",
       "      <td>...</td>\n",
       "      <td>...</td>\n",
       "      <td>...</td>\n",
       "      <td>...</td>\n",
       "      <td>...</td>\n",
       "      <td>...</td>\n",
       "      <td>...</td>\n",
       "      <td>...</td>\n",
       "      <td>...</td>\n",
       "    </tr>\n",
       "    <tr>\n",
       "      <th>1250</th>\n",
       "      <td>TSLA</td>\n",
       "      <td>2023-09-20 00:00:00+00:00</td>\n",
       "      <td>262.59</td>\n",
       "      <td>273.9300</td>\n",
       "      <td>262.4606</td>\n",
       "      <td>267.04</td>\n",
       "      <td>122514643</td>\n",
       "      <td>262.590000</td>\n",
       "      <td>273.930000</td>\n",
       "      <td>262.460600</td>\n",
       "      <td>267.040000</td>\n",
       "      <td>122514643</td>\n",
       "      <td>0.0</td>\n",
       "      <td>1.0</td>\n",
       "    </tr>\n",
       "    <tr>\n",
       "      <th>1251</th>\n",
       "      <td>TSLA</td>\n",
       "      <td>2023-09-21 00:00:00+00:00</td>\n",
       "      <td>255.70</td>\n",
       "      <td>260.8600</td>\n",
       "      <td>254.2100</td>\n",
       "      <td>257.85</td>\n",
       "      <td>119951516</td>\n",
       "      <td>255.700000</td>\n",
       "      <td>260.860000</td>\n",
       "      <td>254.210000</td>\n",
       "      <td>257.850000</td>\n",
       "      <td>119951516</td>\n",
       "      <td>0.0</td>\n",
       "      <td>1.0</td>\n",
       "    </tr>\n",
       "    <tr>\n",
       "      <th>1252</th>\n",
       "      <td>TSLA</td>\n",
       "      <td>2023-09-22 00:00:00+00:00</td>\n",
       "      <td>244.88</td>\n",
       "      <td>257.7888</td>\n",
       "      <td>244.4800</td>\n",
       "      <td>257.40</td>\n",
       "      <td>127524083</td>\n",
       "      <td>244.880000</td>\n",
       "      <td>257.788800</td>\n",
       "      <td>244.480000</td>\n",
       "      <td>257.400000</td>\n",
       "      <td>127524083</td>\n",
       "      <td>0.0</td>\n",
       "      <td>1.0</td>\n",
       "    </tr>\n",
       "    <tr>\n",
       "      <th>1253</th>\n",
       "      <td>TSLA</td>\n",
       "      <td>2023-09-25 00:00:00+00:00</td>\n",
       "      <td>246.99</td>\n",
       "      <td>247.1000</td>\n",
       "      <td>238.3100</td>\n",
       "      <td>243.38</td>\n",
       "      <td>104636557</td>\n",
       "      <td>246.990000</td>\n",
       "      <td>247.100000</td>\n",
       "      <td>238.310000</td>\n",
       "      <td>243.380000</td>\n",
       "      <td>104636557</td>\n",
       "      <td>0.0</td>\n",
       "      <td>1.0</td>\n",
       "    </tr>\n",
       "    <tr>\n",
       "      <th>1254</th>\n",
       "      <td>TSLA</td>\n",
       "      <td>2023-09-26 00:00:00+00:00</td>\n",
       "      <td>244.12</td>\n",
       "      <td>249.5500</td>\n",
       "      <td>241.6601</td>\n",
       "      <td>242.98</td>\n",
       "      <td>101993631</td>\n",
       "      <td>244.120000</td>\n",
       "      <td>249.550000</td>\n",
       "      <td>241.660100</td>\n",
       "      <td>242.980000</td>\n",
       "      <td>101993631</td>\n",
       "      <td>0.0</td>\n",
       "      <td>1.0</td>\n",
       "    </tr>\n",
       "  </tbody>\n",
       "</table>\n",
       "<p>1255 rows × 14 columns</p>\n",
       "</div>"
      ],
      "text/plain": [
       "     symbol                       date   close      high       low    open  \\\n",
       "0      TSLA  2018-10-01 00:00:00+00:00  310.70  311.4400  301.0500  305.77   \n",
       "1      TSLA  2018-10-02 00:00:00+00:00  301.02  316.8400  299.1500  313.95   \n",
       "2      TSLA  2018-10-03 00:00:00+00:00  294.80  304.6000  291.5700  303.33   \n",
       "3      TSLA  2018-10-04 00:00:00+00:00  281.83  294.0000  277.6700  293.95   \n",
       "4      TSLA  2018-10-05 00:00:00+00:00  261.95  274.8800  260.0000  274.65   \n",
       "...     ...                        ...     ...       ...       ...     ...   \n",
       "1250   TSLA  2023-09-20 00:00:00+00:00  262.59  273.9300  262.4606  267.04   \n",
       "1251   TSLA  2023-09-21 00:00:00+00:00  255.70  260.8600  254.2100  257.85   \n",
       "1252   TSLA  2023-09-22 00:00:00+00:00  244.88  257.7888  244.4800  257.40   \n",
       "1253   TSLA  2023-09-25 00:00:00+00:00  246.99  247.1000  238.3100  243.38   \n",
       "1254   TSLA  2023-09-26 00:00:00+00:00  244.12  249.5500  241.6601  242.98   \n",
       "\n",
       "         volume    adjClose     adjHigh      adjLow     adjOpen  adjVolume  \\\n",
       "0      21777597   20.713333   20.762667   20.070000   20.384667  326663955   \n",
       "1      11743511   20.068000   21.122667   19.943333   20.930000  176152665   \n",
       "2       7994988   19.653333   20.306667   19.438000   20.222000  119924820   \n",
       "3       9814212   18.788667   19.600000   18.511333   19.596667  147213180   \n",
       "4      17944537   17.463333   18.325333   17.333333   18.310000  269168055   \n",
       "...         ...         ...         ...         ...         ...        ...   \n",
       "1250  122514643  262.590000  273.930000  262.460600  267.040000  122514643   \n",
       "1251  119951516  255.700000  260.860000  254.210000  257.850000  119951516   \n",
       "1252  127524083  244.880000  257.788800  244.480000  257.400000  127524083   \n",
       "1253  104636557  246.990000  247.100000  238.310000  243.380000  104636557   \n",
       "1254  101993631  244.120000  249.550000  241.660100  242.980000  101993631   \n",
       "\n",
       "      divCash  splitFactor  \n",
       "0         0.0          1.0  \n",
       "1         0.0          1.0  \n",
       "2         0.0          1.0  \n",
       "3         0.0          1.0  \n",
       "4         0.0          1.0  \n",
       "...       ...          ...  \n",
       "1250      0.0          1.0  \n",
       "1251      0.0          1.0  \n",
       "1252      0.0          1.0  \n",
       "1253      0.0          1.0  \n",
       "1254      0.0          1.0  \n",
       "\n",
       "[1255 rows x 14 columns]"
      ]
     },
     "execution_count": 18,
     "metadata": {},
     "output_type": "execute_result"
    }
   ],
   "source": [
    "df"
   ]
  },
  {
   "cell_type": "code",
   "execution_count": 19,
   "id": "a3119bca",
   "metadata": {},
   "outputs": [
    {
     "data": {
      "text/html": [
       "<div>\n",
       "<style scoped>\n",
       "    .dataframe tbody tr th:only-of-type {\n",
       "        vertical-align: middle;\n",
       "    }\n",
       "\n",
       "    .dataframe tbody tr th {\n",
       "        vertical-align: top;\n",
       "    }\n",
       "\n",
       "    .dataframe thead th {\n",
       "        text-align: right;\n",
       "    }\n",
       "</style>\n",
       "<table border=\"1\" class=\"dataframe\">\n",
       "  <thead>\n",
       "    <tr style=\"text-align: right;\">\n",
       "      <th></th>\n",
       "      <th>symbol</th>\n",
       "      <th>date</th>\n",
       "      <th>close</th>\n",
       "      <th>high</th>\n",
       "      <th>low</th>\n",
       "      <th>open</th>\n",
       "      <th>volume</th>\n",
       "      <th>adjClose</th>\n",
       "      <th>adjHigh</th>\n",
       "      <th>adjLow</th>\n",
       "      <th>adjOpen</th>\n",
       "      <th>adjVolume</th>\n",
       "      <th>divCash</th>\n",
       "      <th>splitFactor</th>\n",
       "    </tr>\n",
       "  </thead>\n",
       "  <tbody>\n",
       "    <tr>\n",
       "      <th>0</th>\n",
       "      <td>TSLA</td>\n",
       "      <td>2018-10-01 00:00:00+00:00</td>\n",
       "      <td>310.70</td>\n",
       "      <td>311.44</td>\n",
       "      <td>301.05</td>\n",
       "      <td>305.77</td>\n",
       "      <td>21777597</td>\n",
       "      <td>20.713333</td>\n",
       "      <td>20.762667</td>\n",
       "      <td>20.070000</td>\n",
       "      <td>20.384667</td>\n",
       "      <td>326663955</td>\n",
       "      <td>0.0</td>\n",
       "      <td>1.0</td>\n",
       "    </tr>\n",
       "    <tr>\n",
       "      <th>1</th>\n",
       "      <td>TSLA</td>\n",
       "      <td>2018-10-02 00:00:00+00:00</td>\n",
       "      <td>301.02</td>\n",
       "      <td>316.84</td>\n",
       "      <td>299.15</td>\n",
       "      <td>313.95</td>\n",
       "      <td>11743511</td>\n",
       "      <td>20.068000</td>\n",
       "      <td>21.122667</td>\n",
       "      <td>19.943333</td>\n",
       "      <td>20.930000</td>\n",
       "      <td>176152665</td>\n",
       "      <td>0.0</td>\n",
       "      <td>1.0</td>\n",
       "    </tr>\n",
       "    <tr>\n",
       "      <th>2</th>\n",
       "      <td>TSLA</td>\n",
       "      <td>2018-10-03 00:00:00+00:00</td>\n",
       "      <td>294.80</td>\n",
       "      <td>304.60</td>\n",
       "      <td>291.57</td>\n",
       "      <td>303.33</td>\n",
       "      <td>7994988</td>\n",
       "      <td>19.653333</td>\n",
       "      <td>20.306667</td>\n",
       "      <td>19.438000</td>\n",
       "      <td>20.222000</td>\n",
       "      <td>119924820</td>\n",
       "      <td>0.0</td>\n",
       "      <td>1.0</td>\n",
       "    </tr>\n",
       "    <tr>\n",
       "      <th>3</th>\n",
       "      <td>TSLA</td>\n",
       "      <td>2018-10-04 00:00:00+00:00</td>\n",
       "      <td>281.83</td>\n",
       "      <td>294.00</td>\n",
       "      <td>277.67</td>\n",
       "      <td>293.95</td>\n",
       "      <td>9814212</td>\n",
       "      <td>18.788667</td>\n",
       "      <td>19.600000</td>\n",
       "      <td>18.511333</td>\n",
       "      <td>19.596667</td>\n",
       "      <td>147213180</td>\n",
       "      <td>0.0</td>\n",
       "      <td>1.0</td>\n",
       "    </tr>\n",
       "    <tr>\n",
       "      <th>4</th>\n",
       "      <td>TSLA</td>\n",
       "      <td>2018-10-05 00:00:00+00:00</td>\n",
       "      <td>261.95</td>\n",
       "      <td>274.88</td>\n",
       "      <td>260.00</td>\n",
       "      <td>274.65</td>\n",
       "      <td>17944537</td>\n",
       "      <td>17.463333</td>\n",
       "      <td>18.325333</td>\n",
       "      <td>17.333333</td>\n",
       "      <td>18.310000</td>\n",
       "      <td>269168055</td>\n",
       "      <td>0.0</td>\n",
       "      <td>1.0</td>\n",
       "    </tr>\n",
       "  </tbody>\n",
       "</table>\n",
       "</div>"
      ],
      "text/plain": [
       "  symbol                       date   close    high     low    open    volume  \\\n",
       "0   TSLA  2018-10-01 00:00:00+00:00  310.70  311.44  301.05  305.77  21777597   \n",
       "1   TSLA  2018-10-02 00:00:00+00:00  301.02  316.84  299.15  313.95  11743511   \n",
       "2   TSLA  2018-10-03 00:00:00+00:00  294.80  304.60  291.57  303.33   7994988   \n",
       "3   TSLA  2018-10-04 00:00:00+00:00  281.83  294.00  277.67  293.95   9814212   \n",
       "4   TSLA  2018-10-05 00:00:00+00:00  261.95  274.88  260.00  274.65  17944537   \n",
       "\n",
       "    adjClose    adjHigh     adjLow    adjOpen  adjVolume  divCash  splitFactor  \n",
       "0  20.713333  20.762667  20.070000  20.384667  326663955      0.0          1.0  \n",
       "1  20.068000  21.122667  19.943333  20.930000  176152665      0.0          1.0  \n",
       "2  19.653333  20.306667  19.438000  20.222000  119924820      0.0          1.0  \n",
       "3  18.788667  19.600000  18.511333  19.596667  147213180      0.0          1.0  \n",
       "4  17.463333  18.325333  17.333333  18.310000  269168055      0.0          1.0  "
      ]
     },
     "execution_count": 19,
     "metadata": {},
     "output_type": "execute_result"
    }
   ],
   "source": [
    "df.head()"
   ]
  },
  {
   "cell_type": "code",
   "execution_count": 20,
   "id": "45e832d3",
   "metadata": {},
   "outputs": [
    {
     "data": {
      "text/html": [
       "<div>\n",
       "<style scoped>\n",
       "    .dataframe tbody tr th:only-of-type {\n",
       "        vertical-align: middle;\n",
       "    }\n",
       "\n",
       "    .dataframe tbody tr th {\n",
       "        vertical-align: top;\n",
       "    }\n",
       "\n",
       "    .dataframe thead th {\n",
       "        text-align: right;\n",
       "    }\n",
       "</style>\n",
       "<table border=\"1\" class=\"dataframe\">\n",
       "  <thead>\n",
       "    <tr style=\"text-align: right;\">\n",
       "      <th></th>\n",
       "      <th>symbol</th>\n",
       "      <th>date</th>\n",
       "      <th>close</th>\n",
       "      <th>high</th>\n",
       "      <th>low</th>\n",
       "      <th>open</th>\n",
       "      <th>volume</th>\n",
       "      <th>adjClose</th>\n",
       "      <th>adjHigh</th>\n",
       "      <th>adjLow</th>\n",
       "      <th>adjOpen</th>\n",
       "      <th>adjVolume</th>\n",
       "      <th>divCash</th>\n",
       "      <th>splitFactor</th>\n",
       "    </tr>\n",
       "  </thead>\n",
       "  <tbody>\n",
       "    <tr>\n",
       "      <th>1250</th>\n",
       "      <td>TSLA</td>\n",
       "      <td>2023-09-20 00:00:00+00:00</td>\n",
       "      <td>262.59</td>\n",
       "      <td>273.9300</td>\n",
       "      <td>262.4606</td>\n",
       "      <td>267.04</td>\n",
       "      <td>122514643</td>\n",
       "      <td>262.59</td>\n",
       "      <td>273.9300</td>\n",
       "      <td>262.4606</td>\n",
       "      <td>267.04</td>\n",
       "      <td>122514643</td>\n",
       "      <td>0.0</td>\n",
       "      <td>1.0</td>\n",
       "    </tr>\n",
       "    <tr>\n",
       "      <th>1251</th>\n",
       "      <td>TSLA</td>\n",
       "      <td>2023-09-21 00:00:00+00:00</td>\n",
       "      <td>255.70</td>\n",
       "      <td>260.8600</td>\n",
       "      <td>254.2100</td>\n",
       "      <td>257.85</td>\n",
       "      <td>119951516</td>\n",
       "      <td>255.70</td>\n",
       "      <td>260.8600</td>\n",
       "      <td>254.2100</td>\n",
       "      <td>257.85</td>\n",
       "      <td>119951516</td>\n",
       "      <td>0.0</td>\n",
       "      <td>1.0</td>\n",
       "    </tr>\n",
       "    <tr>\n",
       "      <th>1252</th>\n",
       "      <td>TSLA</td>\n",
       "      <td>2023-09-22 00:00:00+00:00</td>\n",
       "      <td>244.88</td>\n",
       "      <td>257.7888</td>\n",
       "      <td>244.4800</td>\n",
       "      <td>257.40</td>\n",
       "      <td>127524083</td>\n",
       "      <td>244.88</td>\n",
       "      <td>257.7888</td>\n",
       "      <td>244.4800</td>\n",
       "      <td>257.40</td>\n",
       "      <td>127524083</td>\n",
       "      <td>0.0</td>\n",
       "      <td>1.0</td>\n",
       "    </tr>\n",
       "    <tr>\n",
       "      <th>1253</th>\n",
       "      <td>TSLA</td>\n",
       "      <td>2023-09-25 00:00:00+00:00</td>\n",
       "      <td>246.99</td>\n",
       "      <td>247.1000</td>\n",
       "      <td>238.3100</td>\n",
       "      <td>243.38</td>\n",
       "      <td>104636557</td>\n",
       "      <td>246.99</td>\n",
       "      <td>247.1000</td>\n",
       "      <td>238.3100</td>\n",
       "      <td>243.38</td>\n",
       "      <td>104636557</td>\n",
       "      <td>0.0</td>\n",
       "      <td>1.0</td>\n",
       "    </tr>\n",
       "    <tr>\n",
       "      <th>1254</th>\n",
       "      <td>TSLA</td>\n",
       "      <td>2023-09-26 00:00:00+00:00</td>\n",
       "      <td>244.12</td>\n",
       "      <td>249.5500</td>\n",
       "      <td>241.6601</td>\n",
       "      <td>242.98</td>\n",
       "      <td>101993631</td>\n",
       "      <td>244.12</td>\n",
       "      <td>249.5500</td>\n",
       "      <td>241.6601</td>\n",
       "      <td>242.98</td>\n",
       "      <td>101993631</td>\n",
       "      <td>0.0</td>\n",
       "      <td>1.0</td>\n",
       "    </tr>\n",
       "  </tbody>\n",
       "</table>\n",
       "</div>"
      ],
      "text/plain": [
       "     symbol                       date   close      high       low    open  \\\n",
       "1250   TSLA  2023-09-20 00:00:00+00:00  262.59  273.9300  262.4606  267.04   \n",
       "1251   TSLA  2023-09-21 00:00:00+00:00  255.70  260.8600  254.2100  257.85   \n",
       "1252   TSLA  2023-09-22 00:00:00+00:00  244.88  257.7888  244.4800  257.40   \n",
       "1253   TSLA  2023-09-25 00:00:00+00:00  246.99  247.1000  238.3100  243.38   \n",
       "1254   TSLA  2023-09-26 00:00:00+00:00  244.12  249.5500  241.6601  242.98   \n",
       "\n",
       "         volume  adjClose   adjHigh    adjLow  adjOpen  adjVolume  divCash  \\\n",
       "1250  122514643    262.59  273.9300  262.4606   267.04  122514643      0.0   \n",
       "1251  119951516    255.70  260.8600  254.2100   257.85  119951516      0.0   \n",
       "1252  127524083    244.88  257.7888  244.4800   257.40  127524083      0.0   \n",
       "1253  104636557    246.99  247.1000  238.3100   243.38  104636557      0.0   \n",
       "1254  101993631    244.12  249.5500  241.6601   242.98  101993631      0.0   \n",
       "\n",
       "      splitFactor  \n",
       "1250          1.0  \n",
       "1251          1.0  \n",
       "1252          1.0  \n",
       "1253          1.0  \n",
       "1254          1.0  "
      ]
     },
     "execution_count": 20,
     "metadata": {},
     "output_type": "execute_result"
    }
   ],
   "source": [
    "df.tail()"
   ]
  },
  {
   "cell_type": "code",
   "execution_count": 22,
   "id": "1e66ea09",
   "metadata": {},
   "outputs": [],
   "source": [
    "df1=df.reset_index()['close']"
   ]
  },
  {
   "cell_type": "code",
   "execution_count": 23,
   "id": "05ea326f",
   "metadata": {},
   "outputs": [
    {
     "data": {
      "text/plain": [
       "(1255,)"
      ]
     },
     "execution_count": 23,
     "metadata": {},
     "output_type": "execute_result"
    }
   ],
   "source": [
    "df1.shape"
   ]
  },
  {
   "cell_type": "code",
   "execution_count": 24,
   "id": "0043fe44",
   "metadata": {},
   "outputs": [],
   "source": [
    "import matplotlib.pyplot as plt"
   ]
  },
  {
   "cell_type": "code",
   "execution_count": 25,
   "id": "ad3287a6",
   "metadata": {},
   "outputs": [
    {
     "data": {
      "text/plain": [
       "[<matplotlib.lines.Line2D at 0x2883afac610>]"
      ]
     },
     "execution_count": 25,
     "metadata": {},
     "output_type": "execute_result"
    },
    {
     "data": {
      "image/png": "[encoded data removed]",
      "text/plain": [
       "<Figure size 640x480 with 1 Axes>"
      ]
     },
     "metadata": {},
     "output_type": "display_data"
    }
   ],
   "source": [
    "plt.plot(df1)"
   ]
  },
  {
   "cell_type": "code",
   "execution_count": 26,
   "id": "35b328f3",
   "metadata": {},
   "outputs": [],
   "source": [
    "import numpy as np"
   ]
  },
  {
   "cell_type": "code",
   "execution_count": 36,
   "id": "a5c9addf",
   "metadata": {},
   "outputs": [],
   "source": [
    "from sklearn.preprocessing import MinMaxScaler\n",
    "scaler = MinMaxScaler(feature_range=(0,1))\n",
    "df1=scaler.fit_transform(np.array(df1).reshape(-1,1))"
   ]
  },
  {
   "cell_type": "code",
   "execution_count": 38,
   "id": "1f43ffc1",
   "metadata": {},
   "outputs": [
    {
     "data": {
      "text/plain": [
       "(1255, 1)"
      ]
     },
     "execution_count": 38,
     "metadata": {},
     "output_type": "execute_result"
    }
   ],
   "source": [
    "df1.shape"
   ]
  },
  {
   "cell_type": "code",
   "execution_count": 39,
   "id": "dacc487f",
   "metadata": {},
   "outputs": [],
   "source": [
    "# splitting dataset into train\n",
    "training_size=int(len(df1)*0.65)\n",
    "test_size=len(df1)-training_size\n",
    "train_data,test_data=df1[0:training_size,:],df1[training_size:len(df1),:1]"
   ]
  },
  {
   "cell_type": "code",
   "execution_count": 40,
   "id": "280bf8fe",
   "metadata": {},
   "outputs": [],
   "source": [
    "import numpy\n",
    "def create_dataset(dataset, time_step=1):\n",
    "    dataX,dataY=[],[]\n",
    "    for i in range(len(dataset)-time_step-1):\n",
    "        a=dataset[i:(i+time_step),0]\n",
    "        dataX.append(a)\n",
    "        dataY.append(dataset[i+time_step,0])\n",
    "    return numpy.array(dataX),numpy.array(dataY)"
   ]
  },
  {
   "cell_type": "code",
   "execution_count": 44,
   "id": "2845d535",
   "metadata": {},
   "outputs": [],
   "source": [
    "time_step = 100\n",
    "X_train, Y_train = create_dataset(train_data, time_step)\n",
    "X_test, Y_test = create_dataset(test_data, time_step)"
   ]
  },
  {
   "cell_type": "code",
   "execution_count": 45,
   "id": "b3c5d2a4",
   "metadata": {},
   "outputs": [
    {
     "name": "stdout",
     "output_type": "stream",
     "text": [
      "(714, 100)\n",
      "(714,)\n"
     ]
    },
    {
     "data": {
      "text/plain": [
       "(None, None)"
      ]
     },
     "execution_count": 45,
     "metadata": {},
     "output_type": "execute_result"
    }
   ],
   "source": [
    "print(X_train.shape),print(Y_train.shape)"
   ]
  },
  {
   "cell_type": "code",
   "execution_count": 46,
   "id": "e42da0de",
   "metadata": {},
   "outputs": [
    {
     "name": "stdout",
     "output_type": "stream",
     "text": [
      "(339, 100)\n",
      "(339,)\n"
     ]
    },
    {
     "data": {
      "text/plain": [
       "(None, None)"
      ]
     },
     "execution_count": 46,
     "metadata": {},
     "output_type": "execute_result"
    }
   ],
   "source": [
    "print(X_test.shape),print(Y_test.shape)"
   ]
  },
  {
   "cell_type": "code",
   "execution_count": 47,
   "id": "4d0c744e",
   "metadata": {},
   "outputs": [],
   "source": [
    "X_train =X_train.reshape(X_train.shape[0],X_train.shape[1] , 1)\n",
    "X_test = X_test.reshape(X_test.shape[0],X_test.shape[1] , 1)"
   ]
  },
  {
   "cell_type": "code",
   "execution_count": 48,
   "id": "b633b45f",
   "metadata": {},
   "outputs": [
    {
     "ename": "ModuleNotFoundError",
     "evalue": "No module named 'tensorflow'",
     "output_type": "error",
     "traceback": [
      "\u001b[1;31m---------------------------------------------------------------------------\u001b[0m",
      "\u001b[1;31mModuleNotFoundError\u001b[0m                       Traceback (most recent call last)",
      "Cell \u001b[1;32mIn[48], line 1\u001b[0m\n\u001b[1;32m----> 1\u001b[0m \u001b[38;5;28;01mfrom\u001b[39;00m \u001b[38;5;21;01mtensorflow\u001b[39;00m\u001b[38;5;21;01m.\u001b[39;00m\u001b[38;5;21;01mkeras\u001b[39;00m\u001b[38;5;21;01m.\u001b[39;00m\u001b[38;5;21;01mmodels\u001b[39;00m \u001b[38;5;28;01mimport\u001b[39;00m Sequential\n\u001b[0;32m      2\u001b[0m \u001b[38;5;28;01mfrom\u001b[39;00m \u001b[38;5;21;01mtensorflow\u001b[39;00m\u001b[38;5;21;01m.\u001b[39;00m\u001b[38;5;21;01mkeras\u001b[39;00m\u001b[38;5;21;01m.\u001b[39;00m\u001b[38;5;21;01mlayers\u001b[39;00m \u001b[38;5;28;01mimport\u001b[39;00m Dense\n\u001b[0;32m      3\u001b[0m \u001b[38;5;28;01mfrom\u001b[39;00m \u001b[38;5;21;01mtensorflow\u001b[39;00m\u001b[38;5;21;01m.\u001b[39;00m\u001b[38;5;21;01mkeras\u001b[39;00m\u001b[38;5;21;01m.\u001b[39;00m\u001b[38;5;21;01mlayers\u001b[39;00m \u001b[38;5;28;01mimport\u001b[39;00m LSTM\n",
      "\u001b[1;31mModuleNotFoundError\u001b[0m: No module named 'tensorflow'"
     ]
    }
   ],
   "source": [
    "from tensorflow.keras.models import Sequential\n",
    "from tensorflow.keras.layers import Dense\n",
    "from tensorflow.keras.layers import LSTM"
   ]
  },
  {
   "cell_type": "code",
   "execution_count": null,
   "id": "fac31cc2",
   "metadata": {},
   "outputs": [],
   "source": []
  }
 ],
 "metadata": {
  "kernelspec": {
   "display_name": "Python 3 (ipykernel)",
   "language": "python",
   "name": "python3"
  },
  "language_info": {
   "codemirror_mode": {
    "name": "ipython",
    "version": 3
   },
   "file_extension": ".py",
   "mimetype": "text/x-python",
   "name": "python",
   "nbconvert_exporter": "python",
   "pygments_lexer": "ipython3",
   "version": "3.11.4"
  }
 },
 "nbformat": 4,
 "nbformat_minor": 5
}
